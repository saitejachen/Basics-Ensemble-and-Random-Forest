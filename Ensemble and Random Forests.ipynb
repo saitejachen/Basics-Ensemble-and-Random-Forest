{
 "cells": [
  {
   "cell_type": "code",
   "execution_count": 4,
   "metadata": {},
   "outputs": [],
   "source": [
    "from sklearn.ensemble import RandomForestClassifier\n",
    "from sklearn.ensemble import VotingClassifier\n",
    "from sklearn.linear_model import LogisticRegression\n",
    "from sklearn.svm import SVC\n",
    "\n",
    "log_clf=LogisticRegression()\n",
    "rnd_clf=RandomForestClassifier()\n",
    "svm_clf=SVC()\n",
    "\n",
    "voting_clf=VotingClassifier(estimators=[('lr',log_clf)\n",
    "                                       ,('rf',rnd_clf),\n",
    "                                       ('svc',svm_clf)],\n",
    "                           voting='hard')\n",
    "\n",
    "#voting_clf.fit(X_train,y_train)"
   ]
  },
  {
   "cell_type": "code",
   "execution_count": 6,
   "metadata": {},
   "outputs": [
    {
     "data": {
      "text/plain": [
       "'\\nfor clf in (log_clf,rnd_clf,svm_clf,voting_clf):\\n    clf.fit(X_train,y_train)\\n    y_pred=clf.predict(X_test)\\n    print(clf.__class__.__name__,accuracy_score(y_test,y_pred))\\n\\n'"
      ]
     },
     "execution_count": 6,
     "metadata": {},
     "output_type": "execute_result"
    }
   ],
   "source": [
    "from sklearn.metrics import accuracy_score\n",
    "\n",
    "#for clf in (log_clf,rnd_clf,svm_clf,voting_clf):\n",
    "#    clf.fit(X_train,y_train)\n",
    "#    y_pred=clf.predict(X_test)\n",
    "#    print(clf.__class__.__name__,accuracy_score(y_test,y_pred))"
   ]
  },
  {
   "cell_type": "code",
   "execution_count": 12,
   "metadata": {},
   "outputs": [],
   "source": [
    "from sklearn.ensemble import BaggingClassifier\n",
    "from sklearn.tree import DecisionTreeClassifier\n",
    "\n",
    "bag_clf = BaggingClassifier(DecisionTreeClassifier(),\n",
    "                           n_estimators=500,\n",
    "                           max_samples=100,\n",
    "                           bootstrap=True,\n",
    "                           n_jobs=-1,\n",
    "                           oob_score=True)\n",
    "# bag_clf.fit(X_train,y_train)\n",
    "# y_pred=bag_clf.predict(X_train)\n",
    "# bag_clf.oob_score_\n",
    "# bag_clf.oob_decision_function_"
   ]
  },
  {
   "cell_type": "code",
   "execution_count": null,
   "metadata": {},
   "outputs": [],
   "source": []
  }
 ],
 "metadata": {
  "kernelspec": {
   "display_name": "Python 3",
   "language": "python",
   "name": "python3"
  },
  "language_info": {
   "codemirror_mode": {
    "name": "ipython",
    "version": 3
   },
   "file_extension": ".py",
   "mimetype": "text/x-python",
   "name": "python",
   "nbconvert_exporter": "python",
   "pygments_lexer": "ipython3",
   "version": "3.7.3"
  }
 },
 "nbformat": 4,
 "nbformat_minor": 2
}
